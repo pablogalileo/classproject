{
 "cells": [
  {
   "attachments": {},
   "cell_type": "markdown",
   "metadata": {},
   "source": [
    "##### Nombre: Pablo César Méndez Rodas\n",
    "##### Carnet: 22006487\n",
    "##### Ciencia de Datos en Python, sección B\n",
    "##### PAPD - Primer trimestre 2023"
   ]
  },
  {
   "attachments": {},
   "cell_type": "markdown",
   "metadata": {},
   "source": [
    "# Laboratorio #3 - Análisis de Datos con Python"
   ]
  },
  {
   "attachments": {},
   "cell_type": "markdown",
   "metadata": {},
   "source": [
    "### PARTE 1: Numpy"
   ]
  },
  {
   "cell_type": "code",
   "execution_count": 1,
   "metadata": {},
   "outputs": [],
   "source": [
    "import numpy as np"
   ]
  },
  {
   "attachments": {},
   "cell_type": "markdown",
   "metadata": {},
   "source": [
    "##### 1) ¿Cuál es el tamaño en bytes de un array de 1000 elementos de tipo booleano?"
   ]
  },
  {
   "cell_type": "code",
   "execution_count": 47,
   "metadata": {},
   "outputs": [
    {
     "name": "stdout",
     "output_type": "stream",
     "text": [
      "El tipo de datos del array es: bool\n",
      "El array tiene: 1000 elementos\n",
      "Cada elemento del array mide: 1 bytes\n",
      "El tamaño del array es: 1000 bytes\n"
     ]
    }
   ],
   "source": [
    "sample = np.array([True, False])\n",
    "\n",
    "arr1 = np.random.choice(sample,size=1000)\n",
    "\n",
    "#Tipo de dato\n",
    "print(f\"El tipo de datos del array es: {arr1.dtype}\")\n",
    "\n",
    "# Tamaño del array\n",
    "print(f\"El array tiene: {arr1.size} elementos\")\n",
    " \n",
    "# Tamaño de un elemento del arreglo, en bytes\n",
    "print(f\"Cada elemento del array mide: {arr1.itemsize} bytes\")\n",
    " \n",
    "# Total de bytes consumidos por el array\n",
    "print(f\"El tamaño del array es: {arr1.nbytes} bytes\")"
   ]
  },
  {
   "attachments": {},
   "cell_type": "markdown",
   "metadata": {},
   "source": [
    "##### 2) Cree un array cuyos elementos sean los enteros pares en [1,100] y en orden decreciente. Muestre los 10 últimos por pantalla."
   ]
  },
  {
   "cell_type": "code",
   "execution_count": 53,
   "metadata": {},
   "outputs": [
    {
     "name": "stdout",
     "output_type": "stream",
     "text": [
      "[ 0  2  4  6  8 10 12 14 16 18 20 22 24 26 28 30 32 34 36 38 40 42 44 46\n",
      " 48 50 52 54 56 58 60 62 64 66 68 70 72 74 76 78 80 82 84 86 88 90 92 94\n",
      " 96 98]\n"
     ]
    }
   ],
   "source": [
    "arr2 = np.arange(0,)\n",
    "print(arr2)"
   ]
  },
  {
   "cell_type": "code",
   "execution_count": 54,
   "metadata": {},
   "outputs": [
    {
     "name": "stdout",
     "output_type": "stream",
     "text": [
      "1\n"
     ]
    }
   ],
   "source": []
  }
 ],
 "metadata": {
  "kernelspec": {
   "display_name": "base",
   "language": "python",
   "name": "python3"
  },
  "language_info": {
   "codemirror_mode": {
    "name": "ipython",
    "version": 3
   },
   "file_extension": ".py",
   "mimetype": "text/x-python",
   "name": "python",
   "nbconvert_exporter": "python",
   "pygments_lexer": "ipython3",
   "version": "3.9.13"
  },
  "orig_nbformat": 4
 },
 "nbformat": 4,
 "nbformat_minor": 2
}
