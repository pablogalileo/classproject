{
 "cells": [
  {
   "cell_type": "markdown",
   "id": "c00f38b1-0a68-43a2-ac6f-ec8b6a8a5a8c",
   "metadata": {},
   "source": [
    "##### Nombre: Pablo César Méndez Rodas\n",
    "##### Carnet: 22006487\n",
    "##### Ciencia de Datos en Python, sección B\n",
    "##### PAPD - Primer trimestre 2023\n"
   ]
  },
  {
   "cell_type": "markdown",
   "id": "f76190d8-9eb5-48c0-ad42-cbaad7361821",
   "metadata": {
    "tags": []
   },
   "source": [
    "# GitHub"
   ]
  },
  {
   "cell_type": "markdown",
   "id": "661c0169-07a1-4580-b37a-6aea3d36b5c8",
   "metadata": {},
   "source": [
    "GitHub es una plataforma de alojamiento de código para el control de versiones y la colaboración. Te permite a ti y a otros trabajar juntos en proyectos desde cualquier lugar."
   ]
  },
  {
   "cell_type": "markdown",
   "id": "4e26d287-d1b7-4080-ae49-b367d50dc1b8",
   "metadata": {},
   "source": [
    "GitHub es una plataforma de desarrollo colaborativo para alojar proyectos utilizando el sistema de control de versiones Git. Se utiliza principalmente para la creación de código fuente de programas de ordenador. "
   ]
  },
  {
   "cell_type": "markdown",
   "id": "461c6d1f-ae17-483e-8e5c-9a47d5285fc9",
   "metadata": {},
   "source": [
    "Para iniciar con GitHub primero es necesario:\n",
    "    -Crear y usar un repositorio\n",
    "    -Iniciar y administrar una nueva sucursal\n",
    "    -Realice cambios en un archivo y envíelos a GitHub como confirmaciones\n",
    "    -Abrir y fusionar una solicitud de extracción"
   ]
  },
  {
   "cell_type": "markdown",
   "id": "b1610c0e-27aa-48fb-943f-62f4bba8347b",
   "metadata": {},
   "source": [
    "El código de los proyectos alojados en GitHub se almacena generalmente de forma pública."
   ]
  },
  {
   "cell_type": "markdown",
   "id": "7ae5904d-31f1-4b3e-abdc-1203e734de0e",
   "metadata": {},
   "source": [
    "#### Repositorios"
   ]
  },
  {
   "cell_type": "markdown",
   "id": "c58276bd-db6d-43d3-9db6-4836004fb9c8",
   "metadata": {},
   "source": [
    "Un repositorio se suele utilizar para organizar un único proyecto. Los repositorios pueden contener carpetas y archivos, imágenes, videos, hojas de cálculo y conjuntos de datos, cualquier cosa que necesite su proyecto. A menudo, los repositorios incluyen un archivo LÉAME, un archivo con información sobre su proyecto. Los archivos README están escritos en el lenguaje Markdown de texto sin formato. Puede usar esta hoja de trucos para comenzar con la sintaxis de Markdown. GitHub le permite agregar un archivo README al mismo tiempo que crea su nuevo repositorio. GitHub también ofrece otras opciones comunes, como un archivo de licencia, pero no es necesario que seleccione ninguna de ellas ahora."
   ]
  },
  {
   "cell_type": "markdown",
   "id": "0dbcf83d-6692-4f98-9f74-b1cd233e90fa",
   "metadata": {},
   "source": [
    "#### Branch"
   ]
  },
  {
   "cell_type": "markdown",
   "id": "e72c79c5-63f1-4eb2-91d9-e13bc2a9715a",
   "metadata": {},
   "source": [
    "De forma predeterminada, su repositorio tiene una rama llamada principal que se considera la rama definitiva. Puede crear ramas adicionales fuera de la principal en su repositorio. Puede usar ramas para tener diferentes versiones de un proyecto a la vez. Esto es útil cuando desea agregar nuevas funciones a un proyecto sin cambiar la fuente principal del código. El trabajo realizado en diferentes ramas no aparecerá en la rama principal hasta que la fusiones, lo cual cubriremos más adelante en esta guía. Puede usar ramas para experimentar y realizar ediciones antes de enviarlas a main."
   ]
  },
  {
   "cell_type": "markdown",
   "id": "0f406bbe-bbd2-42b6-a39c-56328590b5b1",
   "metadata": {},
   "source": [
    "# Git"
   ]
  },
  {
   "cell_type": "markdown",
   "id": "2139ca7a-9eff-44c1-b1de-b2061d252297",
   "metadata": {},
   "source": [
    "Git es un software de control de versiones diseñado por Linus Torvalds, pensando en la eficiencia, la confiabilidad y compatibilidad del mantenimiento de versiones de aplicaciones cuando estas tienen un gran número de archivos de código fuente. Su propósito es llevar registro de los cambios en archivos de computadora incluyendo coordinar el trabajo que varias personas realizan sobre archivos compartidos en un repositorio de código."
   ]
  },
  {
   "cell_type": "markdown",
   "id": "2139ca7a-9eff-44c1-b1de-b2061d252297",
   "metadata": {},
   "source": [
    "Al principio, Git se pensó como un motor de bajo nivel sobre el cual otros pudieran escribir la interfaz de usuario o front end. Sin embargo, Git se ha convertido desde entonces en un sistema de control de versiones con funcionalidad plena. "
   ]
  },
  {
   "cell_type": "markdown",
   "id": "0dbcf83d-6692-4f98-9f74-b1cd233e90fa",
   "metadata": {},
   "source": [
    "#### Caracteristicas"
   ]
  },
  {
   "cell_type": "markdown",
   "id": "2139ca7a-9eff-44c1-b1de-b2061d252297",
   "metadata": {},
   "source": [
    "Fuerte apoyo al desarrollo no lineal, por ende rapidez en la gestión de ramas y mezclado de diferentes versiones. Git incluye herramientas específicas para navegar y visualizar un historial de desarrollo no lineal. Una presunción fundamental en Git, es que un cambio será fusionado mucho más frecuentemente de lo que se escribe originalmente, conforme se pasa entre varios programadores que lo revisan. "
   ]
  },
  {
   "cell_type": "markdown",
   "id": "2139ca7a-9eff-44c1-b1de-b2061d252297",
   "metadata": {},
   "source": [
    "Gestión distribuida, Git le da a cada programador una copia local del historial del desarrollo entero, y los cambios se propagan entre los repositorios locales. Los cambios se importan como ramas adicionales y pueden ser fusionados en la misma manera que se hace con la rama local."
   ]
  },
  {
   "cell_type": "markdown",
   "id": "2139ca7a-9eff-44c1-b1de-b2061d252297",
   "metadata": {},
   "source": [
    "Gestión eficiente de proyectos grandes, dada la rapidez de gestión de diferencias entre archivos, entre otras mejoras de optimización de velocidad de ejecución."
   ]
  },
  {
   "cell_type": "code",
   "execution_count": null,
   "id": "bf5eb222-6890-48b8-b646-951235b2351d",
   "metadata": {},
   "outputs": [],
   "source": []
  }
 ],
 "metadata": {
  "kernelspec": {
   "display_name": "Python 3 (ipykernel)",
   "language": "python",
   "name": "python3"
  },
  "language_info": {
   "codemirror_mode": {
    "name": "ipython",
    "version": 3
   },
   "file_extension": ".py",
   "mimetype": "text/x-python",
   "name": "python",
   "nbconvert_exporter": "python",
   "pygments_lexer": "ipython3",
   "version": "3.9.13"
  }
 },
 "nbformat": 4,
 "nbformat_minor": 5
}
