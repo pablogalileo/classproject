{
 "cells": [
  {
   "attachments": {},
   "cell_type": "markdown",
   "metadata": {},
   "source": [
    "##### Nombre: Pablo César Méndez Rodas\n",
    "##### Carnet: 22006487\n",
    "##### Ciencia de Datos en Python, sección B\n",
    "##### PAPD - Primer trimestre 2023"
   ]
  },
  {
   "attachments": {},
   "cell_type": "markdown",
   "metadata": {},
   "source": [
    "# Hoja de Trabajo #2 - Sintaxis y Estructura de Datos"
   ]
  },
  {
   "attachments": {},
   "cell_type": "markdown",
   "metadata": {},
   "source": [
    "### Ejercicio 1 - Horas, minutos y segundos"
   ]
  },
  {
   "cell_type": "code",
   "execution_count": 38,
   "metadata": {},
   "outputs": [
    {
     "name": "stdout",
     "output_type": "stream",
     "text": [
      "Horas: 0, Minutos: 0, Segundos: 5\n",
      "Se terminó el programa\n"
     ]
    }
   ],
   "source": [
    "#Colocamos un try para manejar excepciones\n",
    "try:\n",
    "    #Declaramos una variable que reciba el numero de segundos y las variables donde almancenará las horas, segundos y minutos\n",
    "    x = int(input('Ingrese el numero de segundos: '))\n",
    "    horas = int(x/3600)\n",
    "    minuto = int((x%3600)/60)\n",
    "    seg = int((x%3600)%60)\n",
    "    print(f\"Horas: {horas}, Minutos: {minuto}, Segundos: {seg}\")\n",
    "except ValueError as ex:\n",
    "    #Determinarmos que solo hay un error que podría influir y es colocar números decimales o letras\n",
    "    print(\"No debe ingresar letras ni decimales, solo numeros enteros\")\n",
    "finally:\n",
    "    print(\"Se terminó el programa\")"
   ]
  },
  {
   "attachments": {},
   "cell_type": "markdown",
   "metadata": {},
   "source": [
    "### Ejercicio 2 - Patrones triangulares"
   ]
  },
  {
   "cell_type": "code",
   "execution_count": 242,
   "metadata": {},
   "outputs": [
    {
     "name": "stdout",
     "output_type": "stream",
     "text": [
      "5 \n",
      "5 5 \n",
      "5 5 5 \n",
      "5 5 5 5 \n",
      "5 5 5 5 5 \n",
      "- - - - - \n",
      "5 5 5 5 5 \n",
      "  5 5 5 5 \n",
      "    5 5 5 \n",
      "      5 5 \n",
      "        5 \n",
      "- - - - - \n",
      "    5 \n",
      "   5 5 \n",
      "  5 5 5 \n",
      " 5 5 5 5 \n",
      "5 5 5 5 5 \n",
      "- - - - - \n",
      "5 5 5 5 5 \n",
      " 5 5 5 5 \n",
      "  5 5 5 \n",
      "   5 5 \n",
      "    5 \n",
      "Vuelva a correr el programa\n"
     ]
    }
   ],
   "source": [
    "try:    \n",
    "    n = int(input('Ingrese un número entre 1 y 20: '))\n",
    "    while (n not in range(1,21)):\n",
    "        n = int(input(\"INCORRECTO. Ingrese un número entre 1 y 20: \"))\n",
    "\n",
    "    char = input('Ingrese un caracter para realizar los triángulos: ')\n",
    "    while (len(char) !=1):\n",
    "        char = input(\"INCORRECTO. Ingrese un caracter para realizar los triángulos: \")\n",
    "\n",
    "    for i in range(0,n):\n",
    "        for j in range (0,i+1):\n",
    "            print(char,end=\" \")\n",
    "        print(\"\\r\")\n",
    "\n",
    "    print(\"- \"*n)\n",
    "\n",
    "    i = n\n",
    "    while i >= 1:\n",
    "        j = n\n",
    "        while j > i:\n",
    "            # display space\n",
    "            print(' ', end=' ')\n",
    "            j -= 1\n",
    "        k = 1\n",
    "        while k <= i:\n",
    "            print(char, end=' ')\n",
    "            k += 1\n",
    "        print()\n",
    "        i -= 1\n",
    "\n",
    "    print(\"- \"*n)\n",
    "\n",
    "    k = 1 * n - 1\n",
    "    for i in range(0, n):\n",
    "        for j in range(0, k):\n",
    "            print(end=\" \")\n",
    "        k = k - 1\n",
    "        for j in range(0, i + 1):\n",
    "            print(char, end=\" \")\n",
    "        print(\"\")\n",
    "\n",
    "    print(\"- \"*n)\n",
    "\n",
    "    k = n - n\n",
    "    for i in range(n-1, -1, -1):\n",
    "        for j in range(k, 0, -1):\n",
    "            print(end=\" \")\n",
    "        k = k + 1\n",
    "        for j in range(0, i + 1):\n",
    "            print(char, end=\" \")\n",
    "        print(\"\")\n",
    "except ValueError as ex:\n",
    "    #Determinarmos que solo hay un error que podría influir y es colocar números decimales o letras\n",
    "    print(\"No debe ingresar letras ni decimales, solo numeros enteros\")\n",
    "finally:\n",
    "    print(\"Vuelva a correr el programa\")\n"
   ]
  },
  {
   "attachments": {},
   "cell_type": "markdown",
   "metadata": {},
   "source": [
    "### Ejercicio 3 - Edad de una persona"
   ]
  },
  {
   "cell_type": "code",
   "execution_count": 188,
   "metadata": {},
   "outputs": [],
   "source": [
    "import datetime as dt"
   ]
  },
  {
   "cell_type": "code",
   "execution_count": 241,
   "metadata": {},
   "outputs": [
    {
     "name": "stdout",
     "output_type": "stream",
     "text": [
      "Usted tiene aproximadamente 29 años, 6 meses y 10 días de edad\n"
     ]
    }
   ],
   "source": [
    "d = int(input('Ingrese el día de nacimiento: '))\n",
    "m = int(input('Ingrese el mes de nacimiento: '))\n",
    "y = int(input('Ingrese el año de nacimiento: '))\n",
    "\n",
    "nac = dt.datetime(y,m,d)\n",
    "\n",
    "hoy = dt.datetime.today()\n",
    "\n",
    "b = hoy - nac\n",
    "dias = b.days\n",
    "\n",
    "ey = int(dias/365)\n",
    "em = int((dias%365)/31)\n",
    "ed = int(((dias%365)%31))\n",
    "print(f\"Usted tiene aproximadamente {ey} años, {em} meses y {ed} días de edad\")"
   ]
  },
  {
   "attachments": {},
   "cell_type": "markdown",
   "metadata": {},
   "source": [
    "### Ejercicio 4 - Tupla a String"
   ]
  },
  {
   "cell_type": "code",
   "execution_count": 326,
   "metadata": {},
   "outputs": [
    {
     "name": "stdout",
     "output_type": "stream",
     "text": [
      "16Octubre1922viernes5PM\n"
     ]
    }
   ],
   "source": [
    "t=(16, \"Octubre\", 1922,\"viernes\",5,\"PM\")\n",
    "b = str(t[0])\n",
    "for i in range (1,len(t)):\n",
    "    a = str(t[i])\n",
    "    b = b+a\n",
    "print(b)\n"
   ]
  },
  {
   "cell_type": "code",
   "execution_count": 259,
   "metadata": {},
   "outputs": [
    {
     "name": "stdout",
     "output_type": "stream",
     "text": [
      "('m', 'u', 'n', 'd', 'o', 'm', 'u', 'n', 'd', 'o')\n"
     ]
    }
   ],
   "source": [
    "#SOLO PROBANDO PARA ARMAR LA TUPLA AL GUSTO DEL CLIENTE\n",
    "\n",
    "n = int(input('Ingrese un número entre 1 y 5: '))\n",
    "while (n not in range(1,6)):\n",
    "    n = int(input(\"INCORRECTO. Ingrese un número entre 1 y 5: \"))\n",
    "    \n",
    "\n",
    "for i in range(0,n):\n",
    "    i= input('Ingrese un valor cualquiera: ')\n",
    "    tupla = tuple(i)\n",
    "    tupla += tupla\n",
    "print(tupla)\n",
    "\n",
    "#NO FUNCIONA YA QUE SOLO TOMA LA ULTIMA ENTRADA Y SI ESCRIBO \"HOLA\" ME GUARDA LA TUPLA (H,O,L,A), NO ES LO QUE BUSCO"
   ]
  },
  {
   "attachments": {},
   "cell_type": "markdown",
   "metadata": {},
   "source": [
    "### Ejercicio 5 - Eiminar tuplas vacías"
   ]
  },
  {
   "cell_type": "code",
   "execution_count": 327,
   "metadata": {},
   "outputs": [
    {
     "name": "stdout",
     "output_type": "stream",
     "text": [
      "['Hola', ('Mi', 'cumpleaños', 'es'), (16, 10, 1992), 'viernes', 5, ('de', 'la', 'tarde')]\n"
     ]
    }
   ],
   "source": [
    "tupla = ('Hola',(), ('Mi', 'cumpleaños', 'es'), (),(), (16,10,1992),\"viernes\",(),5,('de','la','tarde'))\n",
    "lista=list(tupla)\n",
    "def eliminar(lista):\n",
    "    lista=[num for num in lista if num]\n",
    "    return lista\n",
    "print(eliminar(lista))"
   ]
  },
  {
   "attachments": {},
   "cell_type": "markdown",
   "metadata": {},
   "source": [
    "### Ejercicio 6 - Promedio Tuplas"
   ]
  },
  {
   "cell_type": "code",
   "execution_count": 372,
   "metadata": {},
   "outputs": [
    {
     "data": {
      "text/plain": [
       "(10.5, 44.0, 58.0)"
      ]
     },
     "execution_count": 372,
     "metadata": {},
     "output_type": "execute_result"
    }
   ],
   "source": [
    "tupla=((10, 10, 10, 12), (30, 45, 56, 45), (81, 80, 39, 32))\n",
    "new = []\n",
    "for i in range (0,len(tupla)):\n",
    "    s=sum(tupla[i])\n",
    "    l=len(tupla[i])\n",
    "    ave=s/l\n",
    "    new = new+[ave]\n",
    "    \n",
    "tuple(new)"
   ]
  },
  {
   "attachments": {},
   "cell_type": "markdown",
   "metadata": {},
   "source": [
    "### Ejercicio 7 - Facturas"
   ]
  },
  {
   "cell_type": "code",
   "execution_count": 416,
   "metadata": {},
   "outputs": [
    {
     "name": "stdout",
     "output_type": "stream",
     "text": [
      "Seleccione una opción\n",
      "Ingrese el número de factura que desea pagar: \n"
     ]
    },
    {
     "ename": "KeyError",
     "evalue": "1001",
     "output_type": "error",
     "traceback": [
      "\u001b[1;31m---------------------------------------------------------------------------\u001b[0m",
      "\u001b[1;31mKeyError\u001b[0m                                  Traceback (most recent call last)",
      "\u001b[1;32m~\\AppData\\Local\\Temp\\ipykernel_12560\\810101609.py\u001b[0m in \u001b[0;36m<module>\u001b[1;34m\u001b[0m\n\u001b[0;32m     28\u001b[0m                 \u001b[1;32melse\u001b[0m\u001b[1;33m:\u001b[0m\u001b[1;33m\u001b[0m\u001b[1;33m\u001b[0m\u001b[0m\n\u001b[0;32m     29\u001b[0m                     \u001b[0mprint\u001b[0m\u001b[1;33m(\u001b[0m\u001b[1;34mf\"El valor de la factura es {facturas.get(paga)}\"\u001b[0m\u001b[1;33m)\u001b[0m\u001b[1;33m\u001b[0m\u001b[1;33m\u001b[0m\u001b[0m\n\u001b[1;32m---> 30\u001b[1;33m             \u001b[0mfacturas\u001b[0m\u001b[1;33m.\u001b[0m\u001b[0mpop\u001b[0m\u001b[1;33m(\u001b[0m\u001b[0mpaga\u001b[0m\u001b[1;33m)\u001b[0m\u001b[1;33m\u001b[0m\u001b[1;33m\u001b[0m\u001b[0m\n\u001b[0m\u001b[0;32m     31\u001b[0m             \u001b[0mprint\u001b[0m\u001b[1;33m(\u001b[0m\u001b[0mfacturas\u001b[0m\u001b[1;33m)\u001b[0m\u001b[1;33m\u001b[0m\u001b[1;33m\u001b[0m\u001b[0m\n\u001b[0;32m     32\u001b[0m \u001b[1;33m\u001b[0m\u001b[0m\n",
      "\u001b[1;31mKeyError\u001b[0m: 1001"
     ]
    }
   ],
   "source": [
    "facturas = {4655:58.5, 3251:63.0, 7514:258.2, 9632:124.3, 9674:741.15, 8541:30.0, 2123:155.9, 1000:9.99}\n",
    "\n",
    "preg=0\n",
    "\n",
    "while preg != 3:\n",
    "    print(\"Seleccione una opción\")\n",
    "    preg = int(input(\"[1] Añadir nueva factura. [2] Pagar factura. [3] Salir\"))\n",
    "\n",
    "    if (preg>0 and preg < 4):\n",
    "        if preg==1:\n",
    "            a = int(input('Ingrese un número de factura entre 1000 y 9999: '))\n",
    "            while (a not in range(1000,10000)):\n",
    "                a = int(input(\"INCORRECTO. Ingrese un número de factura entre 1000 y 9999: \"))\n",
    "\n",
    "            b = float(input('Ingrese el monto de factura: '))\n",
    "\n",
    "            masfacturas = dict({a:b})\n",
    "            facturas.update(masfacturas)\n",
    "            print(facturas)\n",
    "\n",
    "        elif preg ==2:\n",
    "            print(\"Ingrese el número de factura que desea pagar: \")\n",
    "            paga = int(input('Ingrese un número de factura entre 1000 y 9999: '))\n",
    "            while (paga not in range(1000,10000)):\n",
    "                paga = int(input(\"INCORRECTO. Ingrese un número de factura entre 1000 y 9999: \"))\n",
    "                if (facturas.get(paga)==None):\n",
    "                    print(\"Factura no existe\")\n",
    "                else:\n",
    "                    print(f\"El valor de la factura es {facturas.get(paga)}\")\n",
    "                    finally\n",
    "            facturas.pop(paga)\n",
    "            print(facturas)\n",
    "\n",
    "        elif preg==3:\n",
    "            print(\"terminar\")\n",
    "    else:\n",
    "        print(\"Respuesta no es válida, intente de nuevo\")\n",
    "\n"
   ]
  },
  {
   "cell_type": "code",
   "execution_count": 383,
   "metadata": {},
   "outputs": [],
   "source": [
    "a = int(input('Ingrese un número entre 1000 y 9999: '))\n",
    "while (a not in range(1000,10000)):\n",
    "    a = int(input(\"INCORRECTO. Ingrese un número entre 1 y 20: \"))"
   ]
  },
  {
   "cell_type": "code",
   "execution_count": 414,
   "metadata": {},
   "outputs": [
    {
     "name": "stdout",
     "output_type": "stream",
     "text": [
      "Ingrese el número de factura que desea pagar: \n",
      "{4655: 58.5, 3251: 63.0, 7514: 258.2, 9632: 124.3, 9674: 741.15, 8541: 30.0, 2123: 155.9, 1000: 9.99}\n"
     ]
    }
   ],
   "source": [
    "facturas = {4655:58.5, 3251:63.0, 7514:258.2, 9632:124.3, 9674:741.15, 8541:30.0, 2123:155.9, 1000:9.99}\n",
    "print(\"Ingrese el número de factura que desea pagar: \")\n",
    "paga = int(input('Ingrese un número de factura entre 1000 y 9999: '))\n",
    "while (paga not in range(1000,10000)):\n",
    "    paga = int(input(\"INCORRECTO. Ingrese un número de factura entre 1000 y 9999: \"))\n",
    "    while (facturas.get(paga)==None):\n",
    "        print(\"Factura no existe\")\n",
    "        paga = int(input(\"INCORRECTO. Ingrese un número de factura entre 1000 y 9999: \"))\n",
    "    print(f\"El valor de la factura es {facturas.get(paga)}\")\n",
    "    facturas.pop(paga)\n",
    "    print(facturas)\n",
    "print(facturas)\n"
   ]
  },
  {
   "cell_type": "code",
   "execution_count": 415,
   "metadata": {},
   "outputs": [
    {
     "name": "stdout",
     "output_type": "stream",
     "text": [
      "no\n"
     ]
    }
   ],
   "source": [
    "facturas = {4655:58.5, 3251:63.0, 7514:258.2, 9632:124.3, 9674:741.15, 8541:30.0, 2123:155.9, 1000:9.99}\n",
    "if (facturas.get(1001)==None):\n",
    "    print(\"no\")"
   ]
  }
 ],
 "metadata": {
  "kernelspec": {
   "display_name": "base",
   "language": "python",
   "name": "python3"
  },
  "language_info": {
   "codemirror_mode": {
    "name": "ipython",
    "version": 3
   },
   "file_extension": ".py",
   "mimetype": "text/x-python",
   "name": "python",
   "nbconvert_exporter": "python",
   "pygments_lexer": "ipython3",
   "version": "3.9.13"
  },
  "orig_nbformat": 4,
  "vscode": {
   "interpreter": {
    "hash": "b2e652f635080af47a587503e30de6976439f49ada01b3349f0f0746ac93a74c"
   }
  }
 },
 "nbformat": 4,
 "nbformat_minor": 2
}
