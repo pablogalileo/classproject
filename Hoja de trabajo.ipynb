{
 "cells": [
  {
   "attachments": {},
   "cell_type": "markdown",
   "metadata": {},
   "source": [
    "##### Nombre: Pablo César Méndez Rodas\n",
    "##### Carnet: 22006487\n",
    "##### Ciencia de Datos en Python, sección B\n",
    "##### PAPD - Primer trimestre 2023"
   ]
  },
  {
   "attachments": {},
   "cell_type": "markdown",
   "metadata": {},
   "source": [
    "# Hoja de Trabajo #2 - Sintaxis y Estructura de Datos"
   ]
  },
  {
   "attachments": {},
   "cell_type": "markdown",
   "metadata": {},
   "source": [
    "### Ejercicio 1 - Horas, minutos y segundos"
   ]
  },
  {
   "cell_type": "code",
   "execution_count": 38,
   "metadata": {},
   "outputs": [
    {
     "name": "stdout",
     "output_type": "stream",
     "text": [
      "Horas: 0, Minutos: 0, Segundos: 5\n",
      "Se terminó el programa\n"
     ]
    }
   ],
   "source": [
    "#Colocamos un try para manejar excepciones\n",
    "try:\n",
    "    #Declaramos una variable que reciba el numero de segundos y las variables donde almancenará las horas, segundos y minutos\n",
    "    x = int(input('Ingrese el numero de segundos: '))\n",
    "    horas = int(x/3600)\n",
    "    minuto = int((x%3600)/60)\n",
    "    seg = int((x%3600)%60)\n",
    "    print(f\"Horas: {horas}, Minutos: {minuto}, Segundos: {seg}\")\n",
    "except ValueError as ex:\n",
    "    #Determinarmos que solo hay un error que podría influir y es colocar números decimales o letras\n",
    "    print(\"No debe ingresar letras ni decimales, solo numeros enteros\")\n",
    "finally:\n",
    "    print(\"Se terminó el programa\")"
   ]
  },
  {
   "attachments": {},
   "cell_type": "markdown",
   "metadata": {},
   "source": [
    "### Ejercicio 2 - Patrones triangulares"
   ]
  },
  {
   "cell_type": "code",
   "execution_count": 242,
   "metadata": {},
   "outputs": [
    {
     "name": "stdout",
     "output_type": "stream",
     "text": [
      "5 \n",
      "5 5 \n",
      "5 5 5 \n",
      "5 5 5 5 \n",
      "5 5 5 5 5 \n",
      "- - - - - \n",
      "5 5 5 5 5 \n",
      "  5 5 5 5 \n",
      "    5 5 5 \n",
      "      5 5 \n",
      "        5 \n",
      "- - - - - \n",
      "    5 \n",
      "   5 5 \n",
      "  5 5 5 \n",
      " 5 5 5 5 \n",
      "5 5 5 5 5 \n",
      "- - - - - \n",
      "5 5 5 5 5 \n",
      " 5 5 5 5 \n",
      "  5 5 5 \n",
      "   5 5 \n",
      "    5 \n",
      "Vuelva a correr el programa\n"
     ]
    }
   ],
   "source": [
    "try:    \n",
    "    n = int(input('Ingrese un número entre 1 y 20: '))\n",
    "    while (n not in range(1,21)):\n",
    "        n = int(input(\"INCORRECTO. Ingrese un número entre 1 y 20: \"))\n",
    "\n",
    "    char = input('Ingrese un caracter para realizar los triángulos: ')\n",
    "    while (len(char) !=1):\n",
    "        char = input(\"INCORRECTO. Ingrese un caracter para realizar los triángulos: \")\n",
    "\n",
    "    for i in range(0,n):\n",
    "        for j in range (0,i+1):\n",
    "            print(char,end=\" \")\n",
    "        print(\"\\r\")\n",
    "\n",
    "    print(\"- \"*n)\n",
    "\n",
    "    i = n\n",
    "    while i >= 1:\n",
    "        j = n\n",
    "        while j > i:\n",
    "            # display space\n",
    "            print(' ', end=' ')\n",
    "            j -= 1\n",
    "        k = 1\n",
    "        while k <= i:\n",
    "            print(char, end=' ')\n",
    "            k += 1\n",
    "        print()\n",
    "        i -= 1\n",
    "\n",
    "    print(\"- \"*n)\n",
    "\n",
    "    k = 1 * n - 1\n",
    "    for i in range(0, n):\n",
    "        for j in range(0, k):\n",
    "            print(end=\" \")\n",
    "        k = k - 1\n",
    "        for j in range(0, i + 1):\n",
    "            print(char, end=\" \")\n",
    "        print(\"\")\n",
    "\n",
    "    print(\"- \"*n)\n",
    "\n",
    "    k = n - n\n",
    "    for i in range(n-1, -1, -1):\n",
    "        for j in range(k, 0, -1):\n",
    "            print(end=\" \")\n",
    "        k = k + 1\n",
    "        for j in range(0, i + 1):\n",
    "            print(char, end=\" \")\n",
    "        print(\"\")\n",
    "except ValueError as ex:\n",
    "    #Determinarmos que solo hay un error que podría influir y es colocar números decimales o letras\n",
    "    print(\"No debe ingresar letras ni decimales, solo numeros enteros\")\n",
    "finally:\n",
    "    print(\"Vuelva a correr el programa\")\n"
   ]
  },
  {
   "attachments": {},
   "cell_type": "markdown",
   "metadata": {},
   "source": [
    "### Ejercicio 3 - Edad de una persona"
   ]
  },
  {
   "cell_type": "code",
   "execution_count": 188,
   "metadata": {},
   "outputs": [],
   "source": [
    "import datetime as dt"
   ]
  },
  {
   "cell_type": "code",
   "execution_count": 241,
   "metadata": {},
   "outputs": [
    {
     "name": "stdout",
     "output_type": "stream",
     "text": [
      "Usted tiene aproximadamente 29 años, 6 meses y 10 días de edad\n"
     ]
    }
   ],
   "source": [
    "d = int(input('Ingrese el día de nacimiento: '))\n",
    "m = int(input('Ingrese el mes de nacimiento: '))\n",
    "y = int(input('Ingrese el año de nacimiento: '))\n",
    "\n",
    "nac = dt.datetime(y,m,d)\n",
    "\n",
    "hoy = dt.datetime.today()\n",
    "\n",
    "b = hoy - nac\n",
    "dias = b.days\n",
    "\n",
    "ey = int(dias/365)\n",
    "em = int((dias%365)/31)\n",
    "ed = int(((dias%365)%31))\n",
    "print(f\"Usted tiene aproximadamente {ey} años, {em} meses y {ed} días de edad\")"
   ]
  },
  {
   "attachments": {},
   "cell_type": "markdown",
   "metadata": {},
   "source": [
    "### Ejercicio 4 - Tupla a String"
   ]
  },
  {
   "cell_type": "code",
   "execution_count": 326,
   "metadata": {},
   "outputs": [
    {
     "name": "stdout",
     "output_type": "stream",
     "text": [
      "16Octubre1922viernes5PM\n"
     ]
    }
   ],
   "source": [
    "t=(16, \"Octubre\", 1922,\"viernes\",5,\"PM\")\n",
    "b = str(t[0])\n",
    "for i in range (1,len(t)):\n",
    "    a = str(t[i])\n",
    "    b = b+a\n",
    "print(b)\n"
   ]
  },
  {
   "attachments": {},
   "cell_type": "markdown",
   "metadata": {},
   "source": [
    "### Ejercicio 5 - Eiminar tuplas vacías"
   ]
  },
  {
   "cell_type": "code",
   "execution_count": 327,
   "metadata": {},
   "outputs": [
    {
     "name": "stdout",
     "output_type": "stream",
     "text": [
      "['Hola', ('Mi', 'cumpleaños', 'es'), (16, 10, 1992), 'viernes', 5, ('de', 'la', 'tarde')]\n"
     ]
    }
   ],
   "source": [
    "tupla = ('Hola',(), ('Mi', 'cumpleaños', 'es'), (),(), (16,10,1992),\"viernes\",(),5,('de','la','tarde'))\n",
    "lista=list(tupla)\n",
    "def eliminar(lista):\n",
    "    lista=[num for num in lista if num]\n",
    "    return lista\n",
    "print(eliminar(lista))"
   ]
  },
  {
   "attachments": {},
   "cell_type": "markdown",
   "metadata": {},
   "source": [
    "### Ejercicio 6 - Promedio Tuplas"
   ]
  },
  {
   "cell_type": "code",
   "execution_count": 372,
   "metadata": {},
   "outputs": [
    {
     "data": {
      "text/plain": [
       "(10.5, 44.0, 58.0)"
      ]
     },
     "execution_count": 372,
     "metadata": {},
     "output_type": "execute_result"
    }
   ],
   "source": [
    "tupla=((10, 10, 10, 12), (30, 45, 56, 45), (81, 80, 39, 32))\n",
    "new = []\n",
    "for i in range (0,len(tupla)):\n",
    "    s=sum(tupla[i])\n",
    "    l=len(tupla[i])\n",
    "    ave=s/l\n",
    "    new = new+[ave]\n",
    "    \n",
    "tuple(new)"
   ]
  },
  {
   "attachments": {},
   "cell_type": "markdown",
   "metadata": {},
   "source": [
    "### Ejercicio 7 - Facturas"
   ]
  },
  {
   "cell_type": "code",
   "execution_count": 432,
   "metadata": {},
   "outputs": [
    {
     "name": "stdout",
     "output_type": "stream",
     "text": [
      "Seleccione una opción\n",
      "{4655: 58.5, 3251: 63.0, 7514: 258.2, 9632: 124.3, 9674: 741.15, 8541: 30.0, 2123: 155.9, 1000: 9.99, 3754: 750.0, 5001: 199.99, 8524: 52.0}\n",
      "Seleccione una opción\n",
      "Programa terminado\n"
     ]
    }
   ],
   "source": [
    "facturas = {4655:58.5, 3251:63.0, 7514:258.2, 9632:124.3, 9674:741.15, 8541:30.0, 2123:155.9, 1000:9.99, 3754:750.0, 5001:199.99}\n",
    "\n",
    "preg=0\n",
    "\n",
    "try:\n",
    "    while preg != 3:\n",
    "        print(\"Seleccione una opción\")\n",
    "        preg = int(input(\"[1] Añadir nueva factura. [2] Pagar factura. [3] Salir\"))\n",
    "\n",
    "        if (preg>0 and preg < 4):\n",
    "            if preg==1:\n",
    "                a = int(input('Ingrese un número de factura entre 1000 y 9999: '))\n",
    "                while (a not in range(1000,10000)):\n",
    "                    a = int(input(\"INCORRECTO. Ingrese un número de factura entre 1000 y 9999: \"))\n",
    "\n",
    "                b = float(input('Ingrese el monto de factura: '))\n",
    "\n",
    "                masfacturas = dict({a:b})\n",
    "                facturas.update(masfacturas)\n",
    "                print(facturas)\n",
    "\n",
    "            elif preg ==2:\n",
    "                print(\"Ingrese el número de factura que desea pagar: \")\n",
    "                paga = int(input('Ingrese un número de factura entre 1000 y 9999: '))\n",
    "                while (paga not in range(1000,10000)):\n",
    "                    paga = int(input(\"INCORRECTO. Ingrese un número de factura entre 1000 y 9999: \"))\n",
    "                while (facturas.get(paga)==None):\n",
    "                    paga = int(input('Factura NO VÁLIDA, intente de nuevo: '))\n",
    "                facturas.pop(paga)\n",
    "                print(facturas)\n",
    "\n",
    "            elif preg==3:\n",
    "                print(\"Programa terminado\")\n",
    "        else:\n",
    "            print(\"Respuesta no es válida, intente de nuevo\")\n",
    "except ValueError as ex:\n",
    "    #Determinarmos que solo hay un error que podría influir y es colocar números decimales o letras\n",
    "    print(\"No debe ingresar letras ni decimales, solo numeros enteros\")\n",
    "\n"
   ]
  },
  {
   "attachments": {},
   "cell_type": "markdown",
   "metadata": {},
   "source": [
    "### Ejercicio 8 - Cartas de Poker"
   ]
  },
  {
   "cell_type": "code",
   "execution_count": 517,
   "metadata": {},
   "outputs": [
    {
     "name": "stdout",
     "output_type": "stream",
     "text": [
      "Las cartas de Poker son:{} con {}\n",
      "{'E3', 'T6', 'P9', 'T4', 'P4', 'C13', 'T13', 'E1', 'T2', 'E4', 'C3', 'E7', 'P5', 'E11', 'P2', 'T9', 'C10', 'T10', 'C12', 'P10', 'C6', 'E8', 'T8', 'T11', 'P6', 'C8', 'C9', 'P3', 'E13', 'P7', 'P12', 'T1', 'P13', 'E12', 'C2', 'C11', 'P1', 'E10', 'T12', 'C4', 'T5', 'T7', 'P11', 'E2', 'P8', 'C1', 'C7', 'E6', 'T3', 'C5', 'E9', 'E5'}\n",
      "Con 52 cartas\n",
      "El evento A, con 25 cartas, es:\n",
      "{'E3', 'P4', 'T13', 'E4', 'T2', 'E7', 'P5', 'E11', 'C12', 'C6', 'T8', 'T11', 'C8', 'P7', 'E12', 'C11', 'P1', 'E10', 'T5', 'P11', 'T7', 'P8', 'C1', 'E9', 'E5'}\n",
      "El evento B, con 8 cartas, es:\n",
      "{'P12', 'P10', 'E5', 'E10', 'T12', 'E6', 'P5', 'P2'}\n",
      "La intersección de los eventos A y B, con 3 cartas, es:\n",
      "{'P5', 'E5', 'E10'}\n",
      "La probabilidad de la intersección entre A y B es: 0.057692307692307696\n",
      "La unión de los eventos A y B, con 30 cartas, es:\n",
      "{'P12', 'E3', 'E12', 'C11', 'P4', 'P1', 'T13', 'E10', 'E4', 'T2', 'E7', 'T12', 'T5', 'P5', 'E11', 'P11', 'T7', 'P2', 'C12', 'P8', 'P10', 'C1', 'C6', 'E6', 'T8', 'T11', 'C8', 'E9', 'E5', 'P7'}\n",
      "La probabilidad de la unión entre A y B es: 0.5769230769230769\n",
      "Los eventos son independientes\n",
      "Se comprueba P(A U B) = P(A)+P(B)-P(A interseccion B)\n"
     ]
    },
    {
     "name": "stderr",
     "output_type": "stream",
     "text": [
      "C:\\Users\\pablo\\AppData\\Local\\Temp\\ipykernel_12560\\2003633983.py:16: DeprecationWarning: Sampling from a set deprecated\n",
      "since Python 3.9 and will be removed in a subsequent version.\n",
      "  A = set(random.sample(poker,a))\n",
      "C:\\Users\\pablo\\AppData\\Local\\Temp\\ipykernel_12560\\2003633983.py:17: DeprecationWarning: Sampling from a set deprecated\n",
      "since Python 3.9 and will be removed in a subsequent version.\n",
      "  B = set(random.sample(poker,b))\n"
     ]
    }
   ],
   "source": [
    "#Creando un set con las 52 cartas del Poker\n",
    "poker=set()\n",
    "for i in range (1,14):\n",
    "    cor=\"C\"+str(i)\n",
    "    esp=\"E\"+str(i)\n",
    "    tre=\"T\"+str(i)\n",
    "    pic=\"P\"+str(i)\n",
    "    poker.update([cor,esp,tre,pic])\n",
    "print(\"Las cartas de Poker son:{} con {}\")\n",
    "print(poker)\n",
    "print(f\"Con {len(poker)} cartas\")\n",
    "    \n",
    "a = randint (0,52)\n",
    "b = randint (0,52)\n",
    "\n",
    "A = set(random.sample(poker,a))\n",
    "B = set(random.sample(poker,b))\n",
    "print(f\"El evento A, con {a} cartas, es:\")\n",
    "print(A)\n",
    "print(f\"El evento B, con {b} cartas, es:\")\n",
    "print(B)\n",
    "\n",
    "probA = len(A)/len(poker)\n",
    "probB = len(B)/len(poker)\n",
    "\n",
    "#Sean unos eventos A y B del Experimento E:Poker\n",
    "#Dos eventos son excluyentes si la interseccion es igual a cero, son independientes si P>0\n",
    "\n",
    "AintB = A.intersection(B)\n",
    "print(f\"La intersección de los eventos A y B, con {len(AintB)} cartas, es:\")\n",
    "print(AintB)\n",
    "Pint = len(AintB)/len(poker)\n",
    "print(f\"La probabilidad de la intersección entre A y B es: {Pint}\")\n",
    "\n",
    "\n",
    "AUB = A.union(B)\n",
    "print(f\"La unión de los eventos A y B, con {len(AUB)} cartas, es:\")\n",
    "print(AUB)\n",
    "Pun = len(AUB)/len(poker)\n",
    "Pun2 = probA+probB - Pint\n",
    "print(f\"La probabilidad de la unión entre A y B es: {Pun}\")\n",
    "\n",
    "if Pint != 0:\n",
    "    print(\"Los eventos son independientes\")\n",
    "else:\n",
    "    print(\"Los eventos son excluyentes\")\n",
    "\n",
    "if Pun == Pun2:\n",
    "    print(\"Se comprueba P(A U B) = P(A)+P(B)-P(A interseccion B)\")\n"
   ]
  },
  {
   "cell_type": "code",
   "execution_count": null,
   "metadata": {},
   "outputs": [],
   "source": []
  }
 ],
 "metadata": {
  "kernelspec": {
   "display_name": "base",
   "language": "python",
   "name": "python3"
  },
  "language_info": {
   "codemirror_mode": {
    "name": "ipython",
    "version": 3
   },
   "file_extension": ".py",
   "mimetype": "text/x-python",
   "name": "python",
   "nbconvert_exporter": "python",
   "pygments_lexer": "ipython3",
   "version": "3.9.13"
  },
  "orig_nbformat": 4,
  "vscode": {
   "interpreter": {
    "hash": "b2e652f635080af47a587503e30de6976439f49ada01b3349f0f0746ac93a74c"
   }
  }
 },
 "nbformat": 4,
 "nbformat_minor": 2
}
