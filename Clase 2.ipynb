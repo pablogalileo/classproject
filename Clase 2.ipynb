{
 "cells": [
  {
   "cell_type": "markdown",
   "id": "5b8a637b-1838-4869-b776-d0b21cc98b5d",
   "metadata": {},
   "source": [
    "## Clase 2\n",
    "### Introduccion a Python\n"
   ]
  },
  {
   "cell_type": "code",
   "execution_count": 7,
   "id": "ddb1089d-dcf6-407f-a7f8-a2420a284e50",
   "metadata": {},
   "outputs": [
    {
     "name": "stdout",
     "output_type": "stream",
     "text": [
      "hola mundo\n"
     ]
    }
   ],
   "source": [
    "# hola\n",
    "print ('hola mundo')"
   ]
  },
  {
   "cell_type": "code",
   "execution_count": 8,
   "id": "6ae3aeab-90ef-4f24-beea-4ad498f03fbb",
   "metadata": {},
   "outputs": [],
   "source": [
    "var1 = 45\n",
    "var2 = 23"
   ]
  },
  {
   "cell_type": "code",
   "execution_count": 9,
   "id": "7a480c6d-236e-4505-b228-dc74e46bbdf2",
   "metadata": {},
   "outputs": [
    {
     "data": {
      "text/plain": [
       "68"
      ]
     },
     "execution_count": 9,
     "metadata": {},
     "output_type": "execute_result"
    }
   ],
   "source": [
    "var1 + var2"
   ]
  },
  {
   "cell_type": "code",
   "execution_count": 10,
   "id": "17b633b7-e783-4a85-87a1-31aa13ff7ae2",
   "metadata": {},
   "outputs": [
    {
     "data": {
      "text/plain": [
       "105654455657631171893227100372314453125"
      ]
     },
     "execution_count": 10,
     "metadata": {},
     "output_type": "execute_result"
    }
   ],
   "source": [
    "# doble * quiere decir una potencia\n",
    "var1 ** var2"
   ]
  },
  {
   "cell_type": "code",
   "execution_count": 11,
   "id": "668262c9-1a70-4d50-8665-954d306649f9",
   "metadata": {},
   "outputs": [
    {
     "data": {
      "text/plain": [
       "1.9565217391304348"
      ]
     },
     "execution_count": 11,
     "metadata": {},
     "output_type": "execute_result"
    }
   ],
   "source": [
    "var1 / var2"
   ]
  },
  {
   "cell_type": "code",
   "execution_count": 12,
   "id": "bc1b4dad-a90f-462c-ad90-7614785c3b77",
   "metadata": {},
   "outputs": [
    {
     "data": {
      "text/plain": [
       "1"
      ]
     },
     "execution_count": 12,
     "metadata": {},
     "output_type": "execute_result"
    }
   ],
   "source": [
    "# // significa que trunca el resultado a un valor entero\n",
    "var1 // var2"
   ]
  },
  {
   "cell_type": "code",
   "execution_count": 13,
   "id": "2e55b81c-d5f3-42da-8bb4-8b03ca14a920",
   "metadata": {},
   "outputs": [
    {
     "data": {
      "text/plain": [
       "22"
      ]
     },
     "execution_count": 13,
     "metadata": {},
     "output_type": "execute_result"
    }
   ],
   "source": [
    "# residuo de la division\n",
    "var1 % var2"
   ]
  },
  {
   "cell_type": "code",
   "execution_count": 15,
   "id": "08f4856a-c6bb-46b5-8c46-d566167118de",
   "metadata": {},
   "outputs": [
    {
     "name": "stdout",
     "output_type": "stream",
     "text": [
      "hola cara de bola\n"
     ]
    }
   ],
   "source": [
    "print (\"hola \" + 'cara de bola')"
   ]
  },
  {
   "cell_type": "code",
   "execution_count": 17,
   "id": "fb6af043-0831-430b-9383-694230e03f1b",
   "metadata": {},
   "outputs": [
    {
     "name": "stdout",
     "output_type": "stream",
     "text": [
      "hola 45\n"
     ]
    }
   ],
   "source": [
    "print ('hola ' + str (var1))"
   ]
  },
  {
   "cell_type": "code",
   "execution_count": 18,
   "id": "d64f5f07-62ee-4b6f-a2fd-c4973a5a41a8",
   "metadata": {},
   "outputs": [
    {
     "name": "stdout",
     "output_type": "stream",
     "text": [
      "hola 45\n"
     ]
    }
   ],
   "source": [
    "print ('hola', var1)"
   ]
  },
  {
   "cell_type": "code",
   "execution_count": 19,
   "id": "cdd8b52b-b44e-4bf0-bc87-41bb58a2b5ac",
   "metadata": {},
   "outputs": [],
   "source": [
    "a = 'hola cara de bola'"
   ]
  },
  {
   "cell_type": "code",
   "execution_count": 20,
   "id": "b0e3d15d-13e8-4056-a61a-eff94dd788e0",
   "metadata": {},
   "outputs": [
    {
     "data": {
      "text/plain": [
       "'c'"
      ]
     },
     "execution_count": 20,
     "metadata": {},
     "output_type": "execute_result"
    }
   ],
   "source": [
    "a[5]"
   ]
  },
  {
   "cell_type": "code",
   "execution_count": 21,
   "id": "9fd18c47-b553-4cf0-8a5a-cc4e42bf47cf",
   "metadata": {},
   "outputs": [],
   "source": [
    "b = \"hola cara de bola\""
   ]
  },
  {
   "cell_type": "code",
   "execution_count": 22,
   "id": "cd027950-3e08-4844-b4a9-b827eff79bf1",
   "metadata": {},
   "outputs": [
    {
     "data": {
      "text/plain": [
       "'c'"
      ]
     },
     "execution_count": 22,
     "metadata": {},
     "output_type": "execute_result"
    }
   ],
   "source": [
    "b[5]"
   ]
  },
  {
   "cell_type": "code",
   "execution_count": 23,
   "id": "d232a214-4629-4913-8a8d-78c78128a055",
   "metadata": {},
   "outputs": [
    {
     "data": {
      "text/plain": [
       "'cara '"
      ]
     },
     "execution_count": 23,
     "metadata": {},
     "output_type": "execute_result"
    }
   ],
   "source": [
    "a[5:10]"
   ]
  },
  {
   "cell_type": "code",
   "execution_count": 24,
   "id": "d1b150f9-17bd-4744-a921-e36454538a52",
   "metadata": {},
   "outputs": [
    {
     "data": {
      "text/plain": [
       "'cara de bola'"
      ]
     },
     "execution_count": 24,
     "metadata": {},
     "output_type": "execute_result"
    }
   ],
   "source": [
    "a[5:]"
   ]
  },
  {
   "cell_type": "code",
   "execution_count": 25,
   "id": "567f418a-15b9-4ceb-97e1-b97c2a3f2c65",
   "metadata": {},
   "outputs": [
    {
     "data": {
      "text/plain": [
       "'hola cara de bo'"
      ]
     },
     "execution_count": 25,
     "metadata": {},
     "output_type": "execute_result"
    }
   ],
   "source": [
    "a[:15]"
   ]
  },
  {
   "cell_type": "code",
   "execution_count": 26,
   "id": "9498ad51-733b-4813-a347-03fad31ddc7c",
   "metadata": {},
   "outputs": [],
   "source": [
    "num = [2, 10, 15, 40, 55, 84]"
   ]
  },
  {
   "cell_type": "code",
   "execution_count": 27,
   "id": "775ce0de-8669-4452-8737-f27370fe8bf6",
   "metadata": {},
   "outputs": [
    {
     "data": {
      "text/plain": [
       "[2, 10, 15, 40, 55, 84]"
      ]
     },
     "execution_count": 27,
     "metadata": {},
     "output_type": "execute_result"
    }
   ],
   "source": [
    "num"
   ]
  },
  {
   "cell_type": "code",
   "execution_count": 28,
   "id": "7fff4028-f799-472d-94ae-604c6754dad1",
   "metadata": {},
   "outputs": [
    {
     "data": {
      "text/plain": [
       "[2, 10, 15, 40, 55, 84, 24]"
      ]
     },
     "execution_count": 28,
     "metadata": {},
     "output_type": "execute_result"
    }
   ],
   "source": [
    "# append coloca en la posicion final\n",
    "num.append(24)\n",
    "num"
   ]
  },
  {
   "cell_type": "code",
   "execution_count": 29,
   "id": "34d2bb69-a770-4d50-8848-f7afc392ae57",
   "metadata": {},
   "outputs": [
    {
     "data": {
      "text/plain": [
       "[2, 10, 15, 35, 40, 55, 84, 24]"
      ]
     },
     "execution_count": 29,
     "metadata": {},
     "output_type": "execute_result"
    }
   ],
   "source": [
    "# para insertar un dato se coloca insert(posicion despues de cual quiero mi valor, valor)\n",
    "num.insert(3,35)\n",
    "num"
   ]
  },
  {
   "cell_type": "code",
   "execution_count": 30,
   "id": "83d5899c-86b8-45f9-9d5b-356d0347d12c",
   "metadata": {},
   "outputs": [
    {
     "data": {
      "text/plain": [
       "[2, 10, 15, 35, 40, 55, 84, 24, 3]"
      ]
     },
     "execution_count": 30,
     "metadata": {},
     "output_type": "execute_result"
    }
   ],
   "source": [
    "num.insert(35,3)\n",
    "num"
   ]
  },
  {
   "cell_type": "code",
   "execution_count": 31,
   "id": "f049bf02-8f9c-4137-ac5f-b71b5d817fea",
   "metadata": {},
   "outputs": [
    {
     "data": {
      "text/plain": [
       "2"
      ]
     },
     "execution_count": 31,
     "metadata": {},
     "output_type": "execute_result"
    }
   ],
   "source": [
    "min(num)"
   ]
  },
  {
   "cell_type": "code",
   "execution_count": 32,
   "id": "993367a3-b27f-4688-a4a4-0b6f7f2df5e0",
   "metadata": {},
   "outputs": [
    {
     "data": {
      "text/plain": [
       "84"
      ]
     },
     "execution_count": 32,
     "metadata": {},
     "output_type": "execute_result"
    }
   ],
   "source": [
    "max(num)"
   ]
  },
  {
   "cell_type": "code",
   "execution_count": 33,
   "id": "691c7ec5-c003-4a66-a933-4d420ecd1595",
   "metadata": {},
   "outputs": [
    {
     "data": {
      "text/plain": [
       "268"
      ]
     },
     "execution_count": 33,
     "metadata": {},
     "output_type": "execute_result"
    }
   ],
   "source": [
    "sum(num)"
   ]
  },
  {
   "cell_type": "code",
   "execution_count": 36,
   "id": "a9658222-85df-410e-b0e7-0076145c8163",
   "metadata": {},
   "outputs": [
    {
     "data": {
      "text/plain": [
       "[2, 3, 10, 15, 24, 35, 40, 55, 84]"
      ]
     },
     "execution_count": 36,
     "metadata": {},
     "output_type": "execute_result"
    }
   ],
   "source": [
    "num.sort()\n",
    "num"
   ]
  },
  {
   "cell_type": "code",
   "execution_count": 38,
   "id": "a2e6c451-1225-435e-971f-95de6f3f3bdc",
   "metadata": {},
   "outputs": [
    {
     "data": {
      "text/plain": [
       "[2, 10, 15, 24, 35, 40, 55, 84]"
      ]
     },
     "execution_count": 38,
     "metadata": {},
     "output_type": "execute_result"
    }
   ],
   "source": [
    "num.remove(3)\n",
    "num"
   ]
  },
  {
   "cell_type": "code",
   "execution_count": 39,
   "id": "021e3249-ed29-4a46-8f49-b4451bff2edd",
   "metadata": {},
   "outputs": [],
   "source": [
    "a = min(num)\n",
    "b = max(num)\n",
    "c = sum(num)"
   ]
  },
  {
   "cell_type": "code",
   "execution_count": 41,
   "id": "4c206343-7395-4b53-b177-9fdadbd94a55",
   "metadata": {},
   "outputs": [
    {
     "name": "stdout",
     "output_type": "stream",
     "text": [
      "la suma de la lista es: 265 el maximo es: 84 el minimo es: 2\n"
     ]
    }
   ],
   "source": [
    "print ('la suma de la lista es:',c,'el maximo es:',b,'el minimo es:',a)"
   ]
  },
  {
   "cell_type": "markdown",
   "id": "f97de265-601a-46e9-900a-35794f9b7dc7",
   "metadata": {},
   "source": [
    "## Ejercicio practico\n",
    "### Calculadora"
   ]
  },
  {
   "cell_type": "code",
   "execution_count": 42,
   "id": "ca03d5ba-2221-49e0-a1ab-515202aa9595",
   "metadata": {},
   "outputs": [
    {
     "name": "stdin",
     "output_type": "stream",
     "text": [
      "Ingrese el nombre de la persona:  pablo\n",
      "Ingrese las horas trabajadas:  8\n",
      "Ingrese el costo por hora:  5\n"
     ]
    },
    {
     "name": "stdout",
     "output_type": "stream",
     "text": [
      "El pago de pablo es:  40.0\n"
     ]
    }
   ],
   "source": [
    "nombre = str(input('Ingrese el nombre de la persona: '))\n",
    "horas = int(input('Ingrese las horas trabajadas: '))\n",
    "costo = float(input('Ingrese el costo por hora: '))\n",
    "salario = horas * costo\n",
    "print('El pago de',nombre,'es: ',str(salario))"
   ]
  },
  {
   "cell_type": "code",
   "execution_count": 44,
   "id": "2a1d8d48-75d8-4701-b96d-ed1b47d3ed1c",
   "metadata": {},
   "outputs": [
    {
     "name": "stdin",
     "output_type": "stream",
     "text": [
      "Ingrese el nombre de la persona:  pablo\n",
      "Ingrese las horas trabajadas:  8\n",
      "Ingrese el costo por hora:  x\n"
     ]
    },
    {
     "ename": "ValueError",
     "evalue": "could not convert string to float: 'x'",
     "output_type": "error",
     "traceback": [
      "\u001b[1;31m---------------------------------------------------------------------------\u001b[0m",
      "\u001b[1;31mValueError\u001b[0m                                Traceback (most recent call last)",
      "\u001b[1;32m~\\AppData\\Local\\Temp\\ipykernel_18204\\3815888422.py\u001b[0m in \u001b[0;36m<module>\u001b[1;34m\u001b[0m\n\u001b[0;32m      1\u001b[0m \u001b[0mnombre\u001b[0m \u001b[1;33m=\u001b[0m \u001b[0mstr\u001b[0m\u001b[1;33m(\u001b[0m\u001b[0minput\u001b[0m\u001b[1;33m(\u001b[0m\u001b[1;34m'Ingrese el nombre de la persona: '\u001b[0m\u001b[1;33m)\u001b[0m\u001b[1;33m)\u001b[0m\u001b[1;33m\u001b[0m\u001b[1;33m\u001b[0m\u001b[0m\n\u001b[0;32m      2\u001b[0m \u001b[0mhoras\u001b[0m \u001b[1;33m=\u001b[0m \u001b[0mint\u001b[0m\u001b[1;33m(\u001b[0m\u001b[0minput\u001b[0m\u001b[1;33m(\u001b[0m\u001b[1;34m'Ingrese las horas trabajadas: '\u001b[0m\u001b[1;33m)\u001b[0m\u001b[1;33m)\u001b[0m\u001b[1;33m\u001b[0m\u001b[1;33m\u001b[0m\u001b[0m\n\u001b[1;32m----> 3\u001b[1;33m \u001b[0mcosto\u001b[0m \u001b[1;33m=\u001b[0m \u001b[0mfloat\u001b[0m\u001b[1;33m(\u001b[0m\u001b[0minput\u001b[0m\u001b[1;33m(\u001b[0m\u001b[1;34m'Ingrese el costo por hora: '\u001b[0m\u001b[1;33m)\u001b[0m\u001b[1;33m)\u001b[0m\u001b[1;33m\u001b[0m\u001b[1;33m\u001b[0m\u001b[0m\n\u001b[0m\u001b[0;32m      4\u001b[0m \u001b[0msalario\u001b[0m \u001b[1;33m=\u001b[0m \u001b[0mhoras\u001b[0m \u001b[1;33m*\u001b[0m \u001b[0mcosto\u001b[0m\u001b[1;33m\u001b[0m\u001b[1;33m\u001b[0m\u001b[0m\n\u001b[0;32m      5\u001b[0m \u001b[0mprint\u001b[0m\u001b[1;33m(\u001b[0m\u001b[1;34m'El pago de'\u001b[0m\u001b[1;33m,\u001b[0m\u001b[0mnombre\u001b[0m\u001b[1;33m,\u001b[0m\u001b[1;34m'es: '\u001b[0m\u001b[1;33m,\u001b[0m\u001b[0mstr\u001b[0m\u001b[1;33m(\u001b[0m\u001b[0msalario\u001b[0m\u001b[1;33m)\u001b[0m\u001b[1;33m)\u001b[0m\u001b[1;33m\u001b[0m\u001b[1;33m\u001b[0m\u001b[0m\n",
      "\u001b[1;31mValueError\u001b[0m: could not convert string to float: 'x'"
     ]
    }
   ],
   "source": [
    "nombre = str(input('Ingrese el nombre de la persona: '))\n",
    "horas = int(input('Ingrese las horas trabajadas: '))\n",
    "costo = float(input('Ingrese el costo por hora: '))\n",
    "salario = horas * costo\n",
    "print('El pago de',nombre,'es: ',str(salario))"
   ]
  },
  {
   "cell_type": "code",
   "execution_count": 43,
   "id": "b9cf7fb5-659c-4e35-ab85-3a81081e7e80",
   "metadata": {},
   "outputs": [
    {
     "name": "stdin",
     "output_type": "stream",
     "text": [
      "Ingrese el nombre de la persona:  juan\n",
      "Ingrese las horas trabajadas:  8.5\n"
     ]
    },
    {
     "name": "stdout",
     "output_type": "stream",
     "text": [
      "El dato no es valido\n"
     ]
    }
   ],
   "source": [
    "try:\n",
    "    nombre = str(input('Ingrese el nombre de la persona: '))\n",
    "    horas = int(input('Ingrese las horas trabajadas: '))\n",
    "    costo = float(input('Ingrese el costo por hora: '))\n",
    "    salario = horas * costo\n",
    "    print('El pago de',nombre,'es: ',str(salario))\n",
    "except: \n",
    "    print('El dato no es valido')"
   ]
  },
  {
   "cell_type": "code",
   "execution_count": 45,
   "id": "535ed518-d1f3-48f0-a656-d762ebc6e2ed",
   "metadata": {},
   "outputs": [
    {
     "name": "stdin",
     "output_type": "stream",
     "text": [
      "Ingrese el nombre de la persona:  pablo\n",
      "Ingrese las horas trabajadas:  8\n",
      "Ingrese el costo por hora:  5\n"
     ]
    },
    {
     "ename": "ZeroDivisionError",
     "evalue": "float division by zero",
     "output_type": "error",
     "traceback": [
      "\u001b[1;31m---------------------------------------------------------------------------\u001b[0m",
      "\u001b[1;31mZeroDivisionError\u001b[0m                         Traceback (most recent call last)",
      "\u001b[1;32m~\\AppData\\Local\\Temp\\ipykernel_18204\\3738656362.py\u001b[0m in \u001b[0;36m<module>\u001b[1;34m\u001b[0m\n\u001b[0;32m      3\u001b[0m \u001b[0mcosto\u001b[0m \u001b[1;33m=\u001b[0m \u001b[0mfloat\u001b[0m\u001b[1;33m(\u001b[0m\u001b[0minput\u001b[0m\u001b[1;33m(\u001b[0m\u001b[1;34m'Ingrese el costo por hora: '\u001b[0m\u001b[1;33m)\u001b[0m\u001b[1;33m)\u001b[0m\u001b[1;33m\u001b[0m\u001b[1;33m\u001b[0m\u001b[0m\n\u001b[0;32m      4\u001b[0m \u001b[0msalario\u001b[0m \u001b[1;33m=\u001b[0m \u001b[0mhoras\u001b[0m \u001b[1;33m*\u001b[0m \u001b[0mcosto\u001b[0m\u001b[1;33m\u001b[0m\u001b[1;33m\u001b[0m\u001b[0m\n\u001b[1;32m----> 5\u001b[1;33m \u001b[0mdivision\u001b[0m \u001b[1;33m=\u001b[0m \u001b[0msalario\u001b[0m \u001b[1;33m/\u001b[0m \u001b[1;36m0\u001b[0m\u001b[1;33m\u001b[0m\u001b[1;33m\u001b[0m\u001b[0m\n\u001b[0m\u001b[0;32m      6\u001b[0m \u001b[0mprint\u001b[0m\u001b[1;33m(\u001b[0m\u001b[1;34m'El pago de'\u001b[0m\u001b[1;33m,\u001b[0m\u001b[0mnombre\u001b[0m\u001b[1;33m,\u001b[0m\u001b[1;34m'es: '\u001b[0m\u001b[1;33m,\u001b[0m\u001b[0mstr\u001b[0m\u001b[1;33m(\u001b[0m\u001b[0msalario\u001b[0m\u001b[1;33m)\u001b[0m\u001b[1;33m)\u001b[0m\u001b[1;33m\u001b[0m\u001b[1;33m\u001b[0m\u001b[0m\n",
      "\u001b[1;31mZeroDivisionError\u001b[0m: float division by zero"
     ]
    }
   ],
   "source": [
    "nombre = str(input('Ingrese el nombre de la persona: '))\n",
    "horas = int(input('Ingrese las horas trabajadas: '))\n",
    "costo = float(input('Ingrese el costo por hora: '))\n",
    "salario = horas * costo\n",
    "division = salario / 0\n",
    "print('El pago de',nombre,'es: ',str(salario))"
   ]
  },
  {
   "cell_type": "code",
   "execution_count": 46,
   "id": "0020e5f8-5342-4478-ace6-405743cb783c",
   "metadata": {},
   "outputs": [
    {
     "name": "stdin",
     "output_type": "stream",
     "text": [
      "Ingrese el nombre de la persona:  pablo\n",
      "Ingrese las horas trabajadas:  8\n",
      "Ingrese el costo por hora:  4.5\n"
     ]
    },
    {
     "name": "stdout",
     "output_type": "stream",
     "text": [
      "No es posible dividir por cero\n"
     ]
    }
   ],
   "source": [
    "try:\n",
    "    nombre = str(input('Ingrese el nombre de la persona: '))\n",
    "    horas = int(input('Ingrese las horas trabajadas: '))\n",
    "    costo = float(input('Ingrese el costo por hora: '))\n",
    "    salario = horas * costo\n",
    "    division = salario / 0\n",
    "    print('El pago de',nombre,'es: ',str(salario))\n",
    "except(ValueError): \n",
    "    print('El dato no es valido')\n",
    "except(ZeroDivisionError): \n",
    "    print('No es posible dividir por cero')"
   ]
  },
  {
   "cell_type": "code",
   "execution_count": 48,
   "id": "181287ff-e38d-4b87-b2c1-9dfd644333de",
   "metadata": {},
   "outputs": [
    {
     "name": "stdin",
     "output_type": "stream",
     "text": [
      "Ingrese el nombre de la persona:  pablo\n",
      "Ingrese las horas trabajadas:  6\n",
      "Ingrese el costo por hora:  10\n"
     ]
    },
    {
     "name": "stdout",
     "output_type": "stream",
     "text": [
      "El pago de pablo es:  70.0\n"
     ]
    }
   ],
   "source": [
    "try:\n",
    "    nombre = str(input('Ingrese el nombre de la persona: '))\n",
    "    horas = int(input('Ingrese las horas trabajadas: '))\n",
    "    costo = float(input('Ingrese el costo por hora: '))\n",
    "    salario = horas * costo\n",
    "    #division = salario / 0\n",
    "    if(horas > 5):\n",
    "        salario = salario + 10\n",
    "    else:\n",
    "        salario\n",
    "    print('El pago de',nombre,'es: ',str(salario))\n",
    "except(ValueError): \n",
    "    print('El dato no es valido')\n",
    "except(ZeroDivisionError): \n",
    "    print('No es posible dividir por cero')"
   ]
  },
  {
   "cell_type": "code",
   "execution_count": 49,
   "id": "d5df6e7b-a0da-4b79-9d5c-b90195395e4b",
   "metadata": {},
   "outputs": [
    {
     "name": "stdin",
     "output_type": "stream",
     "text": [
      "Ingrese el nombre de la persona:  jose\n",
      "Ingrese las horas trabajadas:  5\n",
      "Ingrese el costo por hora:  8\n"
     ]
    },
    {
     "name": "stdout",
     "output_type": "stream",
     "text": [
      "El pago de jose es:  40.0\n"
     ]
    }
   ],
   "source": [
    "try:\n",
    "    nombre = str(input('Ingrese el nombre de la persona: '))\n",
    "    horas = int(input('Ingrese las horas trabajadas: '))\n",
    "    costo = float(input('Ingrese el costo por hora: '))\n",
    "    salario = horas * costo\n",
    "    #division = salario / 0\n",
    "    if(horas > 5):\n",
    "        salario = salario + 10\n",
    "    else:\n",
    "        salario\n",
    "    print('El pago de',nombre,'es: ',str(salario))\n",
    "except(ValueError): \n",
    "    print('El dato no es valido')\n",
    "except(ZeroDivisionError): \n",
    "    print('No es posible dividir por cero')"
   ]
  },
  {
   "cell_type": "code",
   "execution_count": null,
   "id": "02e5cf46-1906-4f3c-ae7e-e3ff4bfd2357",
   "metadata": {},
   "outputs": [],
   "source": []
  }
 ],
 "metadata": {
  "kernelspec": {
   "display_name": "Python 3 (ipykernel)",
   "language": "python",
   "name": "python3"
  },
  "language_info": {
   "codemirror_mode": {
    "name": "ipython",
    "version": 3
   },
   "file_extension": ".py",
   "mimetype": "text/x-python",
   "name": "python",
   "nbconvert_exporter": "python",
   "pygments_lexer": "ipython3",
   "version": "3.9.13"
  }
 },
 "nbformat": 4,
 "nbformat_minor": 5
}
