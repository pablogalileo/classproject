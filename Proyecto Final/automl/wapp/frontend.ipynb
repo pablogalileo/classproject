{
 "cells": [
  {
   "cell_type": "code",
   "execution_count": 2,
   "metadata": {},
   "outputs": [
    {
     "name": "stderr",
     "output_type": "stream",
     "text": [
      "2023-12-18 23:45:44.577 \n",
      "  \u001b[33m\u001b[1mWarning:\u001b[0m to view this Streamlit app on a browser, run it with the following\n",
      "  command:\n",
      "\n",
      "    streamlit run /home/ewfran/anaconda3/envs/mlops/lib/python3.9/site-packages/ipykernel_launcher.py [ARGUMENTS]\n"
     ]
    }
   ],
   "source": [
    "import streamlit as st\n",
    "import requests\n",
    "import pandas as pd\n",
    "import json\n",
    "\n",
    "\n",
    "a = st.number_input('Insert number a')\n",
    "b = st.number_input('Insert number b')\n",
    "params = {'a':a, 'b':b}\n",
    "# http://127.0.01:5000/ is from the flask api\n",
    "if st.button(\"GET\", type=\"primary\"):\n",
    "    response = requests.get(\"http://127.0.0.1:5000/mul/\",params=params)\n",
    "    print(response.json())\n",
    "    data_table1 = pd.json_normalize(response.json())\n",
    "    st.write(data_table1)\n",
    "else:\n",
    "    st.write('Goodbye')\n"
   ]
  }
 ],
 "metadata": {
  "kernelspec": {
   "display_name": "mlops",
   "language": "python",
   "name": "python3"
  },
  "language_info": {
   "codemirror_mode": {
    "name": "ipython",
    "version": 3
   },
   "file_extension": ".py",
   "mimetype": "text/x-python",
   "name": "python",
   "nbconvert_exporter": "python",
   "pygments_lexer": "ipython3",
   "version": "3.9.18"
  }
 },
 "nbformat": 4,
 "nbformat_minor": 2
}
